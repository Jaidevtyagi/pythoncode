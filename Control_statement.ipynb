{
 "cells": [
  {
   "cell_type": "code",
   "execution_count": 4,
   "metadata": {},
   "outputs": [
    {
     "name": "stdout",
     "output_type": "stream",
     "text": [
      " W : 1\n",
      " X : 3\n",
      " Y : 7\n",
      " Z : 89\n",
      "89 is the greatest\n"
     ]
    }
   ],
   "source": [
    "w = int(input(\" W : \"))\n",
    "x = int(input(\" X : \"))\n",
    "y = int(input(\" Y : \"))\n",
    "z = int(input(\" Z : \"))\n",
    "if (w>x and w>y and w>z):\n",
    "    print(\"%d is the greatest\"%(w))\n",
    "elif(x>w and x>y and x>z):\n",
    "    print(\"%d is the greatest\"%(x))\n",
    "elif(y>w and y>x and y>z):\n",
    "    print(\"%d is the greatest\"%(y))\n",
    "else:\n",
    "    print(\"%d is the greatest\"%(z))"
   ]
  },
  {
   "cell_type": "code",
   "execution_count": null,
   "metadata": {},
   "outputs": [],
   "source": [
    "w = int(input(\" W : \"))\n",
    "x = int(input(\" X : \"))\n",
    "y = int(input(\" Y : \"))\n",
    "z = int(input(\" Z : \"))\n",
    "if (w>x and w>y and w>z):\n",
    "    print(\"{} is the greatest\".format(w))\n",
    "elif(x>w and x>y and x>z):\n",
    "    print(\"{} is the greatest\".format(x))\n",
    "elif(y>w and y>x and y>z):\n",
    "    print(\"{} is the greatest\".format(y))\n",
    "else:\n",
    "    print(\"{} is the greatest\".format(z))"
   ]
  }
 ],
 "metadata": {
  "kernelspec": {
   "display_name": "Python 3",
   "language": "python",
   "name": "python3"
  },
  "language_info": {
   "codemirror_mode": {
    "name": "ipython",
    "version": 3
   },
   "file_extension": ".py",
   "mimetype": "text/x-python",
   "name": "python",
   "nbconvert_exporter": "python",
   "pygments_lexer": "ipython3",
   "version": "3.6.4"
  }
 },
 "nbformat": 4,
 "nbformat_minor": 2
}
