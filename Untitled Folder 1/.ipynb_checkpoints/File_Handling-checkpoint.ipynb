{
 "cells": [
  {
   "cell_type": "code",
   "execution_count": 4,
   "metadata": {},
   "outputs": [],
   "source": [
    "file = open('D','w') "
   ]
  },
  {
   "cell_type": "code",
   "execution_count": 8,
   "metadata": {},
   "outputs": [
    {
     "name": "stdout",
     "output_type": "stream",
     "text": [
      "Enter the name of the students: jau jai\n",
      "physics marks: 78\n",
      "chemistry marks: 90\n",
      "Maths Marks: 89\n"
     ]
    }
   ],
   "source": [
    "name = input(\"Enter the name of the students: \").split()\n",
    "physics = list(map(int,input(\"physics marks: \").split()))\n",
    "chemistry = list(map(int,input(\"chemistry marks: \").split()))\n",
    "maths = list(map(int,input(\"Maths Marks: \").split()))\n",
    "percentage = list(zip(name,physics,chemistry,maths,map(lambda m,c,p: (m+c+p)/3, maths,physics,chemistry)))"
   ]
  },
  {
   "cell_type": "code",
   "execution_count": 9,
   "metadata": {},
   "outputs": [
    {
     "data": {
      "text/plain": [
       "[('jau', 78, 90, 89, 85.66666666666667)]"
      ]
     },
     "execution_count": 9,
     "metadata": {},
     "output_type": "execute_result"
    }
   ],
   "source": [
    "percentage\n"
   ]
  },
  {
   "cell_type": "code",
   "execution_count": null,
   "metadata": {},
   "outputs": [],
   "source": []
  }
 ],
 "metadata": {
  "kernelspec": {
   "display_name": "Python 3",
   "language": "python",
   "name": "python3"
  },
  "language_info": {
   "codemirror_mode": {
    "name": "ipython",
    "version": 3
   },
   "file_extension": ".py",
   "mimetype": "text/x-python",
   "name": "python",
   "nbconvert_exporter": "python",
   "pygments_lexer": "ipython3",
   "version": "3.6.4"
  }
 },
 "nbformat": 4,
 "nbformat_minor": 2
}
