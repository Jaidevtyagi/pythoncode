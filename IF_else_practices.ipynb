{
 "cells": [
  {
   "cell_type": "code",
   "execution_count": null,
   "metadata": {},
   "outputs": [],
   "source": [
    "x = int(input(\"X : \"))\n",
    "if x > 0:\n",
    "    print(\"x is positive\")\n",
    "elif(x < 0):\n",
    "    print(\"x is negative\")\n",
    "else:\n",
    "    print(\"x is zero\")\n",
    "    "
   ]
  },
  {
   "cell_type": "code",
   "execution_count": null,
   "metadata": {},
   "outputs": [],
   "source": [
    "x = int(input(\"enter the first number X: \"))\n",
    "y = int(input(\"Enter second number Y: \"))\n",
    "if x>y:\n",
    "    print(\"\\n\\n\\t\\tX is greater than Y\")\n",
    "else:\n",
    "    print(\"\\n\\n\\t\\tY is greater than X\")"
   ]
  },
  {
   "cell_type": "code",
   "execution_count": null,
   "metadata": {},
   "outputs": [],
   "source": [
    "x = int(input(\"x : \"))                                     \n",
    "if (x%5 != 0 and x%11 != 0):                               \n",
    "    print(\"x is not divisible by 5 and 11\")\n",
    "else:\n",
    "    print(\"It is divisible\")"
   ]
  },
  {
   "cell_type": "code",
   "execution_count": null,
   "metadata": {},
   "outputs": [],
   "source": [
    "x = int(input(\"Enter number: \"))\n",
    "if x%2 == 0:\n",
    "    print(\"Number is Even.\")\n",
    "else:\n",
    "    print(\"Number is Odd.\")"
   ]
  },
  {
   "cell_type": "code",
   "execution_count": 1,
   "metadata": {},
   "outputs": [
    {
     "name": "stdout",
     "output_type": "stream",
     "text": [
      "Enter any year : 1246\n",
      "It isn't a leap year\n"
     ]
    }
   ],
   "source": [
    "x = int(input(\"Enter any year : \"))\n",
    "if x%4 == 0:\n",
    "    if x%100==0 and x%400!=0:\n",
    "        print(\"It is not a leap year\")\n",
    "    else:\n",
    "         print(\"It is a leap year\")\n",
    "else:\n",
    "    print(\"It isn't a leap year\")"
   ]
  },
  {
   "cell_type": "code",
   "execution_count": 2,
   "metadata": {},
   "outputs": [],
   "source": []
  },
  {
   "cell_type": "code",
   "execution_count": null,
   "metadata": {},
   "outputs": [],
   "source": []
  },
  {
   "cell_type": "code",
   "execution_count": null,
   "metadata": {},
   "outputs": [],
   "source": [
    "\n",
    "print(\"Rock = 1 \\nPaper = 2 \\nScissor = 3\")\n",
    "x = int(input(\"player one's move: \"))\n",
    "y = int(input(\"player two's move: \"))\n",
    "if x== 1 and y== 3 or x==2 and y == 1 or x == 3 and y == 2:\n",
    "    print(\"player one wins\")\n",
    "elif x== 1 and y== 2 or x==2 and y == 3 or x == 3 and y == 1:\n",
    "    print(\"player one wins\")\n",
    "elif x==y:\n",
    "    print(\"It's a tie\")\n",
    "else:\n",
    "    print(\"Invalid input\")\n",
    "    "
   ]
  },
  {
   "cell_type": "code",
   "execution_count": null,
   "metadata": {},
   "outputs": [],
   "source": [
    "p1 = (('r','s'),('p','r'),('s','p'))\n",
    "from getpass import getpass\n",
    "ch1 = getpass(\"Player 1: \").strip().lower()\n",
    "ch2 = getpass(\"Player 2: \").strip().lower()\n"
   ]
  }
 ],
 "metadata": {
  "kernelspec": {
   "display_name": "Python 3",
   "language": "python",
   "name": "python3"
  },
  "language_info": {
   "codemirror_mode": {
    "name": "ipython",
    "version": 3
   },
   "file_extension": ".py",
   "mimetype": "text/x-python",
   "name": "python",
   "nbconvert_exporter": "python",
   "pygments_lexer": "ipython3",
   "version": "3.6.4"
  }
 },
 "nbformat": 4,
 "nbformat_minor": 2
}
