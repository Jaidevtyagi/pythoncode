{
 "cells": [
  {
   "cell_type": "code",
   "execution_count": 3,
   "metadata": {},
   "outputs": [
    {
     "name": "stdout",
     "output_type": "stream",
     "text": [
      "Hello World\n",
      "Hello World\n",
      "Hello World\n",
      "Hello World\n",
      "Hello World\n",
      "Hello World\n",
      "Hello World\n",
      "Hello World\n",
      "Hello World\n",
      "Hello World\n",
      "11\n"
     ]
    }
   ],
   "source": [
    "i = 1\n",
    "while i<11:\n",
    "    print(\"Hello World\")\n",
    "    i = i+1\n",
    "print(i)"
   ]
  },
  {
   "cell_type": "code",
   "execution_count": 1,
   "metadata": {},
   "outputs": [
    {
     "name": "stdout",
     "output_type": "stream",
     "text": [
      "Enter a number: 89\n",
      "89*1=89\n",
      "89*2=178\n",
      "89*3=267\n",
      "89*4=356\n",
      "89*5=445\n",
      "89*6=534\n",
      "89*7=623\n",
      "89*8=712\n",
      "89*9=801\n",
      "89*10=890\n"
     ]
    }
   ],
   "source": [
    "x = 1\n",
    "i = int(input(\"Enter a number: \"))\n",
    "while x <= 10:\n",
    "    print(\"{}*{}={}\".format(i,x,i*x))\n",
    "    x = x+1"
   ]
  },
  {
   "cell_type": "code",
   "execution_count": null,
   "metadata": {},
   "outputs": [],
   "source": [
    "x= 0\n",
    "while x<=100:\n",
    "    print(x,end = \", \")\n",
    "    x+1"
   ]
  },
  {
   "cell_type": "code",
   "execution_count": null,
   "metadata": {},
   "outputs": [],
   "source": [
    "eve = []\n",
    "odd = []\n",
    "start = int(input(\"Start : \"))\n",
    "end = int(input(\"End: \"))\n",
    "while start<=end:\n",
    "    if start%2 == 0:\n",
    "        eve.append(start)\n",
    "        start= start\n",
    "    else:\n",
    "        odd.append(start)\n",
    "print(eve)\n",
    "print(odd)\n",
    "    \n",
    "        \n",
    "    "
   ]
  },
  {
   "cell_type": "code",
   "execution_count": null,
   "metadata": {},
   "outputs": [],
   "source": [
    "rows = int(input(\"Enter number of rows: \"))"
   ]
  },
  {
   "cell_type": "code",
   "execution_count": null,
   "metadata": {},
   "outputs": [],
   "source": []
  },
  {
   "cell_type": "code",
   "execution_count": null,
   "metadata": {},
   "outputs": [],
   "source": []
  }
 ],
 "metadata": {
  "kernelspec": {
   "display_name": "Python 3",
   "language": "python",
   "name": "python3"
  },
  "language_info": {
   "codemirror_mode": {
    "name": "ipython",
    "version": 3
   },
   "file_extension": ".py",
   "mimetype": "text/x-python",
   "name": "python",
   "nbconvert_exporter": "python",
   "pygments_lexer": "ipython3",
   "version": "3.6.4"
  }
 },
 "nbformat": 4,
 "nbformat_minor": 2
}
