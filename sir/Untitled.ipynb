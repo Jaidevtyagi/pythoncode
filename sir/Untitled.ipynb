{
 "cells": [
  {
   "cell_type": "code",
   "execution_count": 4,
   "metadata": {},
   "outputs": [
    {
     "name": "stdout",
     "output_type": "stream",
     "text": [
      "1\n"
     ]
    }
   ],
   "source": [
    "_a = 1\n",
    "print(_a)"
   ]
  },
  {
   "cell_type": "code",
   "execution_count": 5,
   "metadata": {},
   "outputs": [
    {
     "name": "stdout",
     "output_type": "stream",
     "text": [
      "1\n"
     ]
    }
   ],
   "source": [
    "__a = 1\n",
    "print(__a)"
   ]
  },
  {
   "cell_type": "code",
   "execution_count": 6,
   "metadata": {},
   "outputs": [
    {
     "name": "stdout",
     "output_type": "stream",
     "text": [
      "1\n"
     ]
    }
   ],
   "source": [
    "__str__ = 1\n",
    "print(__str__x = int(input(\"Enter a number : \"))\n",
    "y = int(input(\"Enter a number : \"))\n",
    "print(\"Type of X : \",type(x)) \n",
    "print(\"Type of Y : \",type(y))\n",
    "print(\"Value of X : \",x)\n",
    "print(\"Value of Y : \",y)\n",
    "print(\"Id of X : \",id(x))\n",
    "print(\"Id of Y : \",id(y))\n",
    "x = 6\n",
    "print(\"x = \",x,\"y = \",y)\n",
    "print(\"Id of X : \",id(x))\n",
    "print(\"Id of Y : \",id(y)))\n"
   ]
  },
  {
   "cell_type": "code",
   "execution_count": 11,
   "metadata": {},
   "outputs": [
    {
     "name": "stdout",
     "output_type": "stream",
     "text": [
      "Enter a number : 12\n",
      "Enter a number : 12\n",
      "Type of X :  <class 'int'>\n",
      "Type of Y :  <class 'int'>\n",
      "Value of X :  6\n",
      "Value of Y :  12\n",
      "Id of X :  1926459008\n",
      "Id of Y :  1926459200\n",
      "x =  6 y =  12\n",
      "Id of X :  1926459008\n",
      "Id of Y :  1926459200\n"
     ]
    }
   ],
   "source": [
    "__str__ = int(input(\"Enter a number : \"))\n",
    "y = int(input(\"Enter a number : \"))\n",
    "print(\"Type of X : \",type(x)) \n",
    "print(\"Type of Y : \",type(y))\n",
    "print(\"Value of X : \",x)\n",
    "print(\"Value of Y : \",y)\n",
    "print(\"Id of X : \",id(x))\n",
    "print(\"Id of Y : \",id(y))\n",
    "__str__ = 6\n",
    "print(\"x = \",x,\"y = \",y)\n",
    "print(\"Id of X : \",id(x))\n",
    "print(\"Id of Y : \",id(y))"
   ]
  },
  {
   "cell_type": "code",
   "execution_count": 8,
   "metadata": {},
   "outputs": [
    {
     "name": "stdout",
     "output_type": "stream",
     "text": [
      "Enter a number : 12\n",
      "Enter a number : 12\n",
      "Type of X :  <class 'int'>\n",
      "Type of Y :  <class 'int'>\n",
      "Value of X :  12\n",
      "Value of Y :  12\n",
      "Id of X :  1926459200\n",
      "Id of Y :  1926459200\n",
      "x =  6 y =  12\n",
      "Id of X :  1926459008\n",
      "Id of Y :  1926459200\n"
     ]
    }
   ],
   "source": [
    "x = int(input(\"Enter a number : \"))\n",
    "y = int(input(\"Enter a number : \"))\n",
    "print(\"Type of X : \",type(x)) \n",
    "print(\"Type of Y : \",type(y))\n",
    "print(\"Value of X : \",x)\n",
    "print(\"Value of Y : \",y)\n",
    "print(\"Id of X : \",id(x))\n",
    "print(\"Id of Y : \",id(y))\n",
    "x = 6\n",
    "print(\"x = \",x,\"y = \",y)\n",
    "print(\"Id of X : \",id(x))\n",
    "print(\"Id of Y : \",id(y))"
   ]
  },
  {
   "cell_type": "code",
   "execution_count": 12,
   "metadata": {},
   "outputs": [
    {
     "ename": "SyntaxError",
     "evalue": "invalid syntax (<ipython-input-12-2140b803f38c>, line 1)",
     "output_type": "error",
     "traceback": [
      "\u001b[1;36m  File \u001b[1;32m\"<ipython-input-12-2140b803f38c>\"\u001b[1;36m, line \u001b[1;32m1\u001b[0m\n\u001b[1;33m    hello jaidev\u001b[0m\n\u001b[1;37m               ^\u001b[0m\n\u001b[1;31mSyntaxError\u001b[0m\u001b[1;31m:\u001b[0m invalid syntax\n"
     ]
    }
   ],
   "source": [
    "hello jaidev"
   ]
  },
  {
   "cell_type": "code",
   "execution_count": 13,
   "metadata": {},
   "outputs": [
    {
     "name": "stdout",
     "output_type": "stream",
     "text": [
      "hello jaidev\n"
     ]
    }
   ],
   "source": [
    "print(\"hello jaidev\")"
   ]
  },
  {
   "cell_type": "code",
   "execution_count": null,
   "metadata": {},
   "outputs": [],
   "source": []
  }
 ],
 "metadata": {
  "kernelspec": {
   "display_name": "Python 3",
   "language": "python",
   "name": "python3"
  },
  "language_info": {
   "codemirror_mode": {
    "name": "ipython",
    "version": 3
   },
   "file_extension": ".py",
   "mimetype": "text/x-python",
   "name": "python",
   "nbconvert_exporter": "python",
   "pygments_lexer": "ipython3",
   "version": "3.6.4"
  }
 },
 "nbformat": 4,
 "nbformat_minor": 2
}
