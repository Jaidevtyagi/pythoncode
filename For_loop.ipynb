{
 "cells": [
  {
   "cell_type": "code",
   "execution_count": null,
   "metadata": {},
   "outputs": [],
   "source": [
    "from random import randint\n",
    "randint(1,50)"
   ]
  },
  {
   "cell_type": "code",
   "execution_count": 4,
   "metadata": {},
   "outputs": [
    {
     "name": "stdout",
     "output_type": "stream",
     "text": [
      "Enter your number: 7\n",
      "think higher\n",
      "Enter your number: 45\n",
      "think lower\n",
      "Enter your number: 45\n",
      "think lower\n",
      "Enter your number: 45\n",
      "think lower\n",
      "Enter your number: 45\n",
      "think lower\n"
     ]
    }
   ],
   "source": [
    "#Guess_the_numbers\n",
    "from random import randint                                               #how to print you lose?\n",
    "a = randint(1,50)\n",
    "for choice in range (1,6):\n",
    "    choice = int(input(\"Enter your number: \"))\n",
    "    if choice == a:\n",
    "        print(\"You won\")\n",
    "        break\n",
    "    elif choice<a:\n",
    "        print(\"think higher\")\n",
    "    elif choice > a:\n",
    "        print(\"think lower\")\n",
    "    else:\n",
    "        print(\"You lose,\")\n",
    "    if choice == 5 :\n",
    "        print(\"Computer Guess = \",a)\n",
    "        print(\"You such a Looser\")\n"
   ]
  },
  {
   "cell_type": "code",
   "execution_count": null,
   "metadata": {},
   "outputs": [
    {
     "name": "stdout",
     "output_type": "stream",
     "text": [
      "Enter number of players : 2\n",
      "Name of Player[1]sarthak\n",
      "Name of Player[2]dormammu\n",
      "Press any key to roll bottle4\n",
      "\n",
      "\n",
      "\n",
      "Rolling....Rolling...\n",
      "\n",
      "\n",
      "Target Player : sarthak\n",
      "Press any key to roll bottle2\n",
      "\n",
      "\n",
      "\n",
      "Rolling....Rolling...\n",
      "\n",
      "\n",
      "Target Player : dormammu\n",
      "Press any key to roll bottlei\n",
      "\n",
      "\n",
      "\n",
      "Rolling....Rolling...\n",
      "\n",
      "\n",
      "Target Player : sarthak\n",
      "Press any key to roll bottleo\n",
      "\n",
      "\n",
      "\n",
      "Rolling....Rolling...\n",
      "\n",
      "\n",
      "Target Player : dormammu\n",
      "Press any key to roll bottlel\n",
      "\n",
      "\n",
      "\n",
      "Rolling....Rolling...\n",
      "\n",
      "\n",
      "Target Player : sarthak\n",
      "Press any key to roll bottlep\n",
      "\n",
      "\n",
      "\n",
      "Rolling....Rolling...\n",
      "\n",
      "\n",
      "Target Player : sarthak\n"
     ]
    }
   ],
   "source": [
    "# TDS\n",
    "from random import randint,choice\n",
    "from time import sleep\n",
    "n = int(input(\"Enter number of players : \"))\n",
    "l = []\n",
    "for var in range(n):\n",
    "        l.append(input(\"Name of Player[{}]\".format(var+1)))\n",
    "while input(\"Press any key to roll bottle\") : \n",
    "    print(\"\\n\\n\")\n",
    "    print(\"Rolling....Rolling...\\n\\n\")\n",
    "    sleep(randint(1,5))\n",
    "    print(\"Target Player : {}\".format(choice(l)))\n"
   ]
  },
  {
   "cell_type": "code",
   "execution_count": null,
   "metadata": {},
   "outputs": [],
   "source": []
  },
  {
   "cell_type": "code",
   "execution_count": null,
   "metadata": {},
   "outputs": [],
   "source": [
    "#prime_number\n",
    "from math import sqrt\n",
    "n = int(input(\"Enter the number: \"))\n",
    "for var in range (2,round(sqrt(n)) + 1):\n",
    "    if n%var == 0:\n",
    "        print(\"It's not a prime number.\")\n",
    "        break\n",
    "else:\n",
    "    print(\"It's a prime.\")\n"
   ]
  },
  {
   "cell_type": "code",
   "execution_count": null,
   "metadata": {},
   "outputs": [],
   "source": [
    "#prime_numbers_in_range\n",
    "from math import sqrt\n",
    "n = int(input(\"Enter the start number: \"))\n",
    "m = int(input(\"Enter the end number: \"))\n",
    "c = 0\n",
    "for var in range (n,m):\n",
    "    for x in range(2,var):\n",
    "        if var%x == 0:\n",
    "            break\n",
    "    else:\n",
    "        print(var, end=', ')\n",
    "        c = c+1\n",
    "print(\"\\nTotal numbers of prime numbers are: {} \".format(c))"
   ]
  },
  {
   "cell_type": "code",
   "execution_count": 17,
   "metadata": {},
   "outputs": [
    {
     "name": "stdout",
     "output_type": "stream",
     "text": [
      "Enter your Number: ada\n",
      "<reversed object at 0x0000025F4D1088D0>\n"
     ]
    }
   ],
   "source": [
    "#palindrome_number\n",
    "n = input(\"Enter your Number: \")\n",
    "z = len(str(n))\n",
    "print(reversed(n))"
   ]
  },
  {
   "cell_type": "code",
   "execution_count": null,
   "metadata": {},
   "outputs": [],
   "source": []
  },
  {
   "cell_type": "code",
   "execution_count": null,
   "metadata": {},
   "outputs": [],
   "source": []
  }
 ],
 "metadata": {
  "kernelspec": {
   "display_name": "Python 3",
   "language": "python",
   "name": "python3"
  },
  "language_info": {
   "codemirror_mode": {
    "name": "ipython",
    "version": 3
   },
   "file_extension": ".py",
   "mimetype": "text/x-python",
   "name": "python",
   "nbconvert_exporter": "python",
   "pygments_lexer": "ipython3",
   "version": "3.6.4"
  }
 },
 "nbformat": 4,
 "nbformat_minor": 2
}
